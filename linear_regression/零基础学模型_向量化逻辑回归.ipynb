{
  "nbformat": 4,
  "nbformat_minor": 0,
  "metadata": {
    "colab": {
      "provenance": []
    },
    "kernelspec": {
      "name": "python3",
      "display_name": "Python 3"
    },
    "language_info": {
      "name": "python"
    }
  },
  "cells": [
    {
      "cell_type": "markdown",
      "source": [
        "### m 个样本，每个样本 n 个维度："
      ],
      "metadata": {
        "id": "1-jD2XypU3xW"
      }
    },
    {
      "cell_type": "markdown",
      "source": [
        "\n",
        "x 维度为 (m, n_x)   \n",
        "y 维度为 (m, 1)   \n",
        "w 维度为(n_x, 1)  \n",
        "b 维度为(1, 1)  \n",
        "  \n",
        "dz 维度为 (m, 1)  \n",
        "da 维度为 (m, 1)  \n",
        "dw 维度为 (n_x, 1)  \n",
        "db 维度为(1, 1)"
      ],
      "metadata": {
        "id": "NoAS2dqUTItL"
      }
    },
    {
      "cell_type": "code",
      "source": [
        "import numpy as np\n",
        "\n",
        "n_x = 2\n",
        "m = 6\n",
        "\n",
        "x = np.random.rand(m, n_x)                  # 0~1 之间的随机数\n",
        "y = np.random.randint(0, 2, size=[m, 1])    # 随机生成整数 0 或 1\n",
        "w = np.random.randn(n_x, 1)                 # 标准正态分布，取值在 -1 到 1 之间\n",
        "b = np.random.randn(1, 1)                   # 标准正态分布，取值在 -1 到 1 之间\n",
        "\n",
        "print(x, \"\\n\")\n",
        "print(y, \"\\n\")\n",
        "print(w, \"\\n\")\n",
        "print(b)"
      ],
      "metadata": {
        "colab": {
          "base_uri": "https://localhost:8080/"
        },
        "id": "GMI-GwhmSopc",
        "outputId": "25157f41-88d2-4e86-eac9-ac5a45d5a48f"
      },
      "execution_count": null,
      "outputs": [
        {
          "output_type": "stream",
          "name": "stdout",
          "text": [
            "[[0.6929725  0.54490491]\n",
            " [0.17233482 0.79117756]\n",
            " [0.67084428 0.9819395 ]\n",
            " [0.39158889 0.08769787]\n",
            " [0.17641988 0.1993875 ]\n",
            " [0.42418192 0.51586359]] \n",
            "\n",
            "[[0]\n",
            " [1]\n",
            " [1]\n",
            " [1]\n",
            " [0]\n",
            " [0]] \n",
            "\n",
            "[[-0.06486217]\n",
            " [ 0.81517147]] \n",
            "\n",
            "[[-1.38234696]]\n"
          ]
        }
      ]
    },
    {
      "cell_type": "markdown",
      "source": [
        "$J=0\\ ;\\ \\mathrm{d}w_1=0\\ ;\\ \\mathrm{d}w_2=0\\ ;\\ \\mathrm{d}b=0$"
      ],
      "metadata": {
        "id": "5E1--gegSZz2"
      }
    },
    {
      "cell_type": "code",
      "source": [
        "# 初始化赋值零这一步无需处理。"
      ],
      "metadata": {
        "id": "2LCW9SZZZLXC"
      },
      "execution_count": null,
      "outputs": []
    },
    {
      "cell_type": "markdown",
      "source": [
        "### $For\\ i=1\\ to\\ m$"
      ],
      "metadata": {
        "id": "5QI7uh3-Swjc"
      }
    },
    {
      "cell_type": "markdown",
      "source": [
        "$z^{(i)}=w^Tx^{(i)}+b$"
      ],
      "metadata": {
        "id": "XivxUH1zS7LQ"
      }
    },
    {
      "cell_type": "code",
      "source": [
        "z = np.dot(x, w) + b\n",
        "\n",
        "print(\"x\", x.shape)\n",
        "print(\"w\", w.shape)\n",
        "print(\"z\", z.shape)"
      ],
      "metadata": {
        "colab": {
          "base_uri": "https://localhost:8080/"
        },
        "id": "FnS-zmgqStGw",
        "outputId": "f55e6bd4-5522-4054-94ba-7e37b01c7763"
      },
      "execution_count": null,
      "outputs": [
        {
          "output_type": "stream",
          "name": "stdout",
          "text": [
            "x (6, 2)\n",
            "w (2, 1)\n",
            "z (6, 1)\n"
          ]
        }
      ]
    },
    {
      "cell_type": "markdown",
      "source": [
        "$a^{(i)}=\\sigma(z^{(i)})=\\frac{1}{1+e^{-x}}$"
      ],
      "metadata": {
        "id": "mp4FwkSfW1R4"
      }
    },
    {
      "cell_type": "code",
      "source": [
        "a = 1 / (1 + np.exp(-z))\n",
        "\n",
        "print(\"z\", z.shape)\n",
        "print(\"a\", a.shape)"
      ],
      "metadata": {
        "colab": {
          "base_uri": "https://localhost:8080/"
        },
        "id": "SavlhuAyVBY6",
        "outputId": "3fbfcd8d-903e-453e-dd98-4aed671574f5"
      },
      "execution_count": null,
      "outputs": [
        {
          "output_type": "stream",
          "name": "stdout",
          "text": [
            "z (6, 1)\n",
            "a (6, 1)\n"
          ]
        }
      ]
    },
    {
      "cell_type": "markdown",
      "source": [
        "$J \\mathrel{+}=-y^{(i)}\\log a^{(i)}-(1-y^{(i)})\\log(1-a^{(i)})$"
      ],
      "metadata": {
        "id": "BFJvSkPhXddt"
      }
    },
    {
      "cell_type": "code",
      "source": [
        "J = - np.dot(y.T, np.log(a)) - np.dot((1 - y).T, np.log(1 - a))\n",
        "\n",
        "print(\"y\", y.shape)\n",
        "print(\"y.T\", y.T.shape)\n",
        "print(\"a\", a.shape)\n",
        "print(\"J\", J.shape)"
      ],
      "metadata": {
        "colab": {
          "base_uri": "https://localhost:8080/"
        },
        "id": "IrG1iGQhVC7V",
        "outputId": "d3491a86-b90e-4154-fa54-cd60d013ca85"
      },
      "execution_count": null,
      "outputs": [
        {
          "output_type": "stream",
          "name": "stdout",
          "text": [
            "y (6, 1)\n",
            "y.T (1, 6)\n",
            "a (6, 1)\n",
            "J (1, 1)\n"
          ]
        }
      ]
    },
    {
      "cell_type": "markdown",
      "source": [
        "$\\mathrm{d}z^{(i)}=a^{(i)}-y^{(i)}$"
      ],
      "metadata": {
        "id": "ebzwE-5KZ9D-"
      }
    },
    {
      "cell_type": "code",
      "source": [
        "dz = a - y\n",
        "\n",
        "\n",
        "print(\"a\", a.shape)\n",
        "print(\"y\", y.shape)\n",
        "print(\"dz\", dz.shape)"
      ],
      "metadata": {
        "colab": {
          "base_uri": "https://localhost:8080/"
        },
        "id": "whxb4QMQYV-V",
        "outputId": "d4ba32d8-46b1-45f0-98fe-316f32a8c851"
      },
      "execution_count": null,
      "outputs": [
        {
          "output_type": "stream",
          "name": "stdout",
          "text": [
            "a (6, 1)\n",
            "y (6, 1)\n",
            "dz (6, 1)\n"
          ]
        }
      ]
    },
    {
      "cell_type": "markdown",
      "source": [
        "$\\mathrm{d}w_1+\\!\\,=x_1^{(i)}\\mathrm{d}z^{(i)}\\\\\\mathrm{d}w_2+\\!\\,=x_2^{(i)}\\mathrm{d}z^{(i)}$"
      ],
      "metadata": {
        "id": "jecIz7dZZ_jk"
      }
    },
    {
      "cell_type": "code",
      "source": [
        "dw = np.dot(x.T, dz)\n",
        "\n",
        "print(\"x.T\", x.T.shape)\n",
        "print(\"dz\", dz.shape)\n",
        "print(\"dw\", dw.shape)"
      ],
      "metadata": {
        "colab": {
          "base_uri": "https://localhost:8080/"
        },
        "id": "TIhks6tJZWn5",
        "outputId": "4de988ee-c696-451e-8958-a85ae7be65a9"
      },
      "execution_count": null,
      "outputs": [
        {
          "output_type": "stream",
          "name": "stdout",
          "text": [
            "x.T (2, 6)\n",
            "dz (6, 1)\n",
            "dw (2, 1)\n"
          ]
        }
      ]
    },
    {
      "cell_type": "markdown",
      "source": [
        "$\\mathrm{d}b^{(i)}\\mathrel+=\\mathrm{d}z^{(i)}$"
      ],
      "metadata": {
        "id": "agWeP9HCZ604"
      }
    },
    {
      "cell_type": "code",
      "source": [
        "db = dz.sum().reshape((1, 1)) # 时刻保证向量的形状是确定的\n",
        "\n",
        "print(\"dz\", dz.shape)\n",
        "print(\"db\", db.shape)"
      ],
      "metadata": {
        "colab": {
          "base_uri": "https://localhost:8080/"
        },
        "id": "9CKuJRGjZh0N",
        "outputId": "5e976fd0-564f-41b8-db9e-2372e7886d5d"
      },
      "execution_count": null,
      "outputs": [
        {
          "output_type": "stream",
          "name": "stdout",
          "text": [
            "dz (6, 1)\n",
            "db (1, 1)\n"
          ]
        }
      ]
    },
    {
      "cell_type": "markdown",
      "source": [
        "$J\\ /\\!=m;\\ \\mathrm{d}w_1\\ /\\!=m\\ ;\\ \\mathrm{d}w_2\\ /\\!=m\\ ;\\ \\mathrm{d}b\\ /\\!=m$"
      ],
      "metadata": {
        "id": "GMhpo3Vuamw-"
      }
    },
    {
      "cell_type": "code",
      "source": [
        "print(\"J\", J)\n",
        "print(\"dw\", dw)\n",
        "print(\"db\", db)\n",
        "\n",
        "J /= m\n",
        "dw /= m\n",
        "db /= m\n",
        "\n",
        "print()\n",
        "print(\"J\", J)\n",
        "print(\"dw\", dw)\n",
        "print(\"db\", db)"
      ],
      "metadata": {
        "colab": {
          "base_uri": "https://localhost:8080/"
        },
        "id": "UxkJKa5naOwa",
        "outputId": "240ee1d9-37d8-4591-8705-30448803af1c"
      },
      "execution_count": null,
      "outputs": [
        {
          "output_type": "stream",
          "name": "stdout",
          "text": [
            "J [[4.6495922]]\n",
            "dw [[-0.52058671]\n",
            " [-0.9129949 ]]\n",
            "db [[-1.35291088]]\n",
            "\n",
            "J [[0.77493203]]\n",
            "dw [[-0.08676445]\n",
            " [-0.15216582]]\n",
            "db [[-0.22548515]]\n"
          ]
        }
      ]
    },
    {
      "cell_type": "code",
      "source": [
        "alpha = 0.1 # 学习率\n",
        "\n",
        "print(\"w\", w)\n",
        "print(\"b\", b)\n",
        "print()\n",
        "\n",
        "w = w - alpha * dw\n",
        "b = b - alpha * db\n",
        "\n",
        "print(\"w\", w)\n",
        "print(\"b\", b)"
      ],
      "metadata": {
        "id": "OG3y4rSmccV9",
        "colab": {
          "base_uri": "https://localhost:8080/"
        },
        "outputId": "2d0dcade-3922-414b-d1fb-df840d0082a3"
      },
      "execution_count": null,
      "outputs": [
        {
          "output_type": "stream",
          "name": "stdout",
          "text": [
            "w [[-0.06486217]\n",
            " [ 0.81517147]]\n",
            "b [[-1.38234696]]\n",
            "\n",
            "w [[-0.05618573]\n",
            " [ 0.83038805]]\n",
            "b [[-1.35979845]]\n"
          ]
        }
      ]
    },
    {
      "cell_type": "markdown",
      "source": [
        "Loop 以上 n_epoch 次，直至成本函数 J 降（接近）至 0.\n",
        "\n"
      ],
      "metadata": {
        "id": "lca07NFJdmxR"
      }
    }
  ]
}