{
 "nbformat": 4,
 "nbformat_minor": 0,
 "metadata": {
  "colab": {
   "provenance": []
  },
  "kernelspec": {
   "name": "python3",
   "language": "python",
   "display_name": "Python 3 (ipykernel)"
  },
  "language_info": {
   "name": "python"
  }
 },
 "cells": [
  {
   "cell_type": "markdown",
   "source": [
    "# 向量化编程与 For 循环编程的代码效率比对。"
   ],
   "metadata": {
    "id": "S5cOTt7pC5ER"
   }
  },
  {
   "cell_type": "code",
   "source": [
    "import numpy as np # numpy 是一个非常好用的数据处理库，支持高阶大规模的多维数组与矩阵运算，也针对数组运算提供大量的数学函数。\n",
    "\n",
    "import time\n",
    "\n",
    "n = 1000000\n",
    "\n",
    "a = np.random.rand(n)\n",
    "b = np.random.rand(n)\n",
    "\n",
    "\n"
   ],
   "metadata": {
    "id": "PD91VW2Gn3Jf",
    "ExecuteTime": {
     "end_time": "2024-10-08T11:20:40.694933Z",
     "start_time": "2024-10-08T11:20:40.672422Z"
    }
   },
   "execution_count": 2,
   "outputs": [
    {
     "data": {
      "text/plain": "(1000000,)"
     },
     "execution_count": 2,
     "metadata": {},
     "output_type": "execute_result"
    }
   ]
  },
  {
   "cell_type": "code",
   "source": [
    "t_start = time.time()\n",
    "c = np.dot(a, b)\n",
    "t_end = time.time()\n",
    "\n",
    "print(\"向量化计算\")\n",
    "print(\"结果：\", c)\n",
    "print(\"用时：\", (t_end - t_start) * 1000, \"ms\")"
   ],
   "metadata": {
    "colab": {
     "base_uri": "https://localhost:8080/"
    },
    "id": "2L_Dp0NloCbg",
    "outputId": "cf00ad1d-84d0-45ff-a21b-e5f441735364",
    "ExecuteTime": {
     "end_time": "2024-10-08T11:21:44.142768Z",
     "start_time": "2024-10-08T11:21:44.139286Z"
    }
   },
   "execution_count": 12,
   "outputs": [
    {
     "name": "stdout",
     "output_type": "stream",
     "text": [
      "向量化计算\n",
      "结果： 250294.4294996784\n",
      "用时： 0.5831718444824219 ms\n"
     ]
    }
   ]
  },
  {
   "cell_type": "code",
   "source": [
    "c = 0\n",
    "\n",
    "t_start = time.time()\n",
    "for i in range(n):\n",
    "    c += a[i] * b[i]\n",
    "t_end = time.time()\n",
    "\n",
    "print(\"非向量化计算\")\n",
    "print(\"结果：\", c)\n",
    "print(\"用时：\", (t_end - t_start) * 1000, \"ms\")"
   ],
   "metadata": {
    "id": "lshhIYD_oZ7X",
    "colab": {
     "base_uri": "https://localhost:8080/"
    },
    "outputId": "4352850f-e594-4be6-b1a2-2f8f969bea40",
    "ExecuteTime": {
     "end_time": "2024-10-08T11:21:47.224723Z",
     "start_time": "2024-10-08T11:21:47.117590Z"
    }
   },
   "execution_count": 14,
   "outputs": [
    {
     "name": "stdout",
     "output_type": "stream",
     "text": [
      "非向量化计算\n",
      "结果： 250294.42949968815\n",
      "用时： 164.9620532989502 ms\n"
     ]
    }
   ]
  },
  {
   "cell_type": "markdown",
   "source": [
    "# numpy 的逐元素计算示例"
   ],
   "metadata": {
    "id": "yMdqmsqgC0UB"
   }
  },
  {
   "cell_type": "code",
   "source": [
    "x = np.array([0, 1, 2, 3, 4])\n",
    "\n",
    "print(x)"
   ],
   "metadata": {
    "id": "_dkJjWZppEYO",
    "colab": {
     "base_uri": "https://localhost:8080/"
    },
    "outputId": "e9a7a2b9-e9b4-4255-95a6-71b30f341412",
    "ExecuteTime": {
     "end_time": "2024-10-08T11:21:50.852754Z",
     "start_time": "2024-10-08T11:21:50.849060Z"
    }
   },
   "execution_count": 16,
   "outputs": [
    {
     "name": "stdout",
     "output_type": "stream",
     "text": [
      "[0 1 2 3 4]\n"
     ]
    }
   ]
  },
  {
   "cell_type": "code",
   "source": [
    "y = x + 1\n",
    "\n",
    "print(y)"
   ],
   "metadata": {
    "colab": {
     "base_uri": "https://localhost:8080/"
    },
    "id": "xU1GGm3GDZiA",
    "outputId": "8f802246-2d5e-4d37-ff99-d2ddf3c40195",
    "ExecuteTime": {
     "end_time": "2024-10-08T11:21:52.246720Z",
     "start_time": "2024-10-08T11:21:52.243066Z"
    }
   },
   "execution_count": 17,
   "outputs": [
    {
     "name": "stdout",
     "output_type": "stream",
     "text": [
      "[1 2 3 4 5]\n"
     ]
    }
   ]
  },
  {
   "cell_type": "code",
   "source": [
    "y = np.log(x + 1)\n",
    "\n",
    "print(y)"
   ],
   "metadata": {
    "colab": {
     "base_uri": "https://localhost:8080/"
    },
    "id": "T95EiCYxDfEW",
    "outputId": "d7ff6b05-b7cc-4d8f-b6c5-4df9fa84178c",
    "ExecuteTime": {
     "end_time": "2024-10-08T11:22:12.808689Z",
     "start_time": "2024-10-08T11:22:12.806197Z"
    }
   },
   "execution_count": 19,
   "outputs": [
    {
     "name": "stdout",
     "output_type": "stream",
     "text": [
      "[0.         0.69314718 1.09861229 1.38629436 1.60943791]\n"
     ]
    }
   ]
  },
  {
   "cell_type": "code",
   "source": [
    "y = np.exp(x)\n",
    "\n",
    "print(y)"
   ],
   "metadata": {
    "colab": {
     "base_uri": "https://localhost:8080/"
    },
    "id": "UaKIvbpVDFD0",
    "outputId": "2f5456ee-64fd-49c3-c8aa-390e6a5d4b47",
    "ExecuteTime": {
     "end_time": "2024-10-08T11:22:15.634190Z",
     "start_time": "2024-10-08T11:22:15.626531Z"
    }
   },
   "execution_count": 20,
   "outputs": [
    {
     "name": "stdout",
     "output_type": "stream",
     "text": [
      "[ 1.          2.71828183  7.3890561  20.08553692 54.59815003]\n"
     ]
    }
   ]
  },
  {
   "cell_type": "code",
   "source": [
    "y = x / 2\n",
    "\n",
    "print(y)"
   ],
   "metadata": {
    "colab": {
     "base_uri": "https://localhost:8080/"
    },
    "id": "xjlkAijwDO6d",
    "outputId": "dd447afd-4b35-49e4-91ff-e5cb5d14b74d",
    "ExecuteTime": {
     "end_time": "2024-10-08T11:22:17.903825Z",
     "start_time": "2024-10-08T11:22:17.896692Z"
    }
   },
   "execution_count": 21,
   "outputs": [
    {
     "name": "stdout",
     "output_type": "stream",
     "text": [
      "[0.  0.5 1.  1.5 2. ]\n"
     ]
    }
   ]
  },
  {
   "cell_type": "code",
   "source": [
    "y = x * x\n",
    "\n",
    "print(y)"
   ],
   "metadata": {
    "colab": {
     "base_uri": "https://localhost:8080/"
    },
    "id": "jmfHBB40DTlE",
    "outputId": "5511bb95-73eb-4740-a7db-94d573f44c57",
    "ExecuteTime": {
     "end_time": "2024-10-08T11:22:20.388118Z",
     "start_time": "2024-10-08T11:22:20.384796Z"
    }
   },
   "execution_count": 22,
   "outputs": [
    {
     "name": "stdout",
     "output_type": "stream",
     "text": [
      "[ 0  1  4  9 16]\n"
     ]
    }
   ]
  },
  {
   "cell_type": "markdown",
   "source": [],
   "metadata": {
    "id": "QR49pMAa2JUO"
   }
  },
  {
   "cell_type": "markdown",
   "source": [],
   "metadata": {
    "id": "SYY05dnU2Jjg"
   }
  }
 ]
}
